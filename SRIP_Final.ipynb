{
 "cells": [
  {
   "cell_type": "code",
   "execution_count": 2,
   "id": "1d12d084-a7e6-4bb4-a3d3-47733fa4496e",
   "metadata": {},
   "outputs": [],
   "source": [
    "import numpy as np\n",
    "import matplotlib.pyplot as plt\n",
    "from matplotlib.patches import Ellipse, PathPatch, Circle\n",
    "import matplotlib.transforms as transforms\n",
    "from matplotlib.transforms import Affine2D\n",
    "import mpl_toolkits.mplot3d.art3d as art3d"
   ]
  },
  {
   "cell_type": "markdown",
   "id": "5b4c3177-c784-400e-ad43-16f020151cdd",
   "metadata": {},
   "source": [
    "We have imported the libraries required above"
   ]
  },
  {
   "cell_type": "markdown",
   "id": "af86cb6f-876c-470d-a92b-ed651d3aa2b2",
   "metadata": {},
   "source": [
    "Now, we will create two normally distributed datasets - X and Y "
   ]
  },
  {
   "cell_type": "code",
   "execution_count": 4,
   "id": "e4e540c6-3501-4f9f-9604-9df42ef62c05",
   "metadata": {},
   "outputs": [],
   "source": [
    "np.random.seed(237) #Any random seed\n",
    "\n",
    "normally_distributed_array = np.random.randn(1000, 2)\n",
    "mu = np.array([0, 0]).transpose() #Average\n",
    "standard_deviation = np.array([3, 5]).transpose() #Standard Deviation / Scaling factor\n",
    "normally_distributed_dataset = normally_distributed_array * standard_deviation + mu \n",
    "\n",
    "X = normally_distributed_dataset[:,0]\n",
    "Y = normally_distributed_dataset[:,1]"
   ]
  },
  {
   "cell_type": "code",
   "execution_count": null,
   "id": "5ad664aa-e161-42de-ad91-244a4c7ca961",
   "metadata": {},
   "outputs": [],
   "source": []
  }
 ],
 "metadata": {
  "kernelspec": {
   "display_name": "Python 3 (ipykernel)",
   "language": "python",
   "name": "python3"
  },
  "language_info": {
   "codemirror_mode": {
    "name": "ipython",
    "version": 3
   },
   "file_extension": ".py",
   "mimetype": "text/x-python",
   "name": "python",
   "nbconvert_exporter": "python",
   "pygments_lexer": "ipython3",
   "version": "3.9.0"
  }
 },
 "nbformat": 4,
 "nbformat_minor": 5
}
